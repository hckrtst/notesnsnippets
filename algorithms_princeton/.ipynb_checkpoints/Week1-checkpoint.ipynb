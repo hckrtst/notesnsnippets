{
 "cells": [
  {
   "cell_type": "markdown",
   "id": "79d462e2-d0dc-42ca-b7c0-e5789d2f7999",
   "metadata": {},
   "source": [
    "# Week1\n",
    "\n",
    "Notes from week1 of algorithms course\n"
   ]
  },
  {
   "cell_type": "markdown",
   "id": "59519fff-5d49-4f47-91df-38fc4dcd412f",
   "metadata": {},
   "source": [
    "## Steps to develop usable algorithm\n",
    "\n",
    "* model the problem\n",
    "* find an algorithm that solves it\n",
    "* is it fast enough? is it memory efficient enough?\n",
    "* if not, think about why\n",
    "* find a way to address the shortcomings\n",
    "* iterate until satisfied\n",
    "\n",
    "## Dyanmic connectivity\n",
    "* Given set of N objects\n",
    "    * union command: connect two objects\n",
    "    * find/connected query: is there a path connecting the two objects\n",
    "*     "
   ]
  },
  {
   "cell_type": "code",
   "execution_count": 46,
   "id": "886223dd-471d-453e-a522-7ebe9571114c",
   "metadata": {},
   "outputs": [],
   "source": [
    "class Quick_find:\n",
    "    def __init__(self, n):\n",
    "        self._ids = [i for i in range(n)]\n",
    "\n",
    "    def are_connected(self, first: int, second: int) -> bool:\n",
    "        '''\n",
    "        O(1) time and space\n",
    "        '''\n",
    "        try:\n",
    "            return self._ids[first] == self._ids[second]\n",
    "        except IndexError as e:\n",
    "            print('invalid id provided ')\n",
    "            print(e)\n",
    "\n",
    "    def do_union(self, first: int, second: int) -> None:\n",
    "        '''\n",
    "        go through each element in the array and make sure we identify which\n",
    "        node is in the same collection as first (_ids[first] has the same value as the node in question) \n",
    "        and we connect all these nodes to _ids[second] (replace this value with whatever second has)\n",
    "        At most 2n + 2 accesses\n",
    "        O(n) time and O(1) space \n",
    "        '''\n",
    "        ids = self._ids\n",
    "        first_val = ids[first]\n",
    "        second_val = ids[second]\n",
    "        for i in range(len(ids)):\n",
    "            if ids[i] == ids[first]: # connected to first\n",
    "                ids[i] = ids[second]\n",
    "        print(self._ids)\n",
    "        \n",
    "            "
   ]
  },
  {
   "cell_type": "code",
   "execution_count": 47,
   "id": "a88aac4e-76b4-4efc-81db-81e7b407cb4b",
   "metadata": {},
   "outputs": [],
   "source": [
    "q = Quick_find(10)\n"
   ]
  },
  {
   "cell_type": "code",
   "execution_count": 48,
   "id": "cf694d8d-dfd3-4bde-acd2-9c941785fc46",
   "metadata": {},
   "outputs": [
    {
     "name": "stdout",
     "output_type": "stream",
     "text": [
      "invalid id provided \n",
      "list index out of range\n"
     ]
    }
   ],
   "source": [
    "q.are_connected(10,30)"
   ]
  },
  {
   "cell_type": "code",
   "execution_count": 49,
   "id": "d2ac4fa5-73cb-4a78-8940-b22de5658a1f",
   "metadata": {},
   "outputs": [
    {
     "name": "stdout",
     "output_type": "stream",
     "text": [
      "[4, 1, 2, 3, 4, 5, 6, 7, 8, 9]\n",
      "[4, 1, 2, 3, 4, 6, 6, 7, 8, 9]\n",
      "[4, 1, 2, 3, 4, 9, 9, 7, 8, 9]\n",
      "expected that 0, 9 are not connected\n"
     ]
    }
   ],
   "source": [
    "q.do_union(0,4)\n",
    "q.do_union(5,6)\n",
    "q.do_union(6,9)\n",
    "\n",
    "assert q.are_connected(5,9), \"5 and 9 should be connected\"\n",
    "try:\n",
    "    assert q.are_connected(0,9)\n",
    "except AssertionError:\n",
    "    print('expected that 0, 9 are not connected')\n",
    "else:\n",
    "    raise Exception('should not be connected')\n"
   ]
  },
  {
   "cell_type": "markdown",
   "id": "c9380330-f4b0-44fb-b28b-90f12e7ea8a9",
   "metadata": {},
   "source": [
    "* Quick Find is too slow\n",
    "* if you do N union operations then we end up with N^2 operations\n",
    "* Since 1950s it takes about 1 second to access all words in main memory\n",
    "    * 10^9 operations a second, with 10^9 words of main memory => 1 second\n",
    "* with quick find since it is N^2, it will take 10^18 operations to do 10^9 union commands on 10^9 objects\n",
    "    * this is 30 years of compute time!\n",
    "\n",
    "**Lesson** ==> quadratic algorithms don't scale with technology!\n"
   ]
  },
  {
   "cell_type": "markdown",
   "id": "c5d2b9f8-5455-4bc7-9a02-19d92b54d241",
   "metadata": {},
   "source": [
    "Union find involves modeling the collection of connected nodes as part of a tree\n",
    "\n",
    "As we do union we are adding the first node's subtree as a child of the second node's subtree"
   ]
  },
  {
   "cell_type": "code",
   "execution_count": 52,
   "id": "c3f0b283-9512-437e-b185-561c02546988",
   "metadata": {},
   "outputs": [],
   "source": [
    "class Union_Find:\n",
    "    def __init__(self, n):\n",
    "        # initially each node is a parent of itself\n",
    "        self._ids = [i for i in range(n)]\n",
    "        \n",
    "    def _get_root(self, idx: int) -> int:\n",
    "        '''\n",
    "        private helper to get the root node of a given node\n",
    "        '''\n",
    "        while self._ids[idx] != idx:\n",
    "            idx = self._ids[idx]\n",
    "        return idx\n",
    "        \n",
    "    def connected(self, first: int, second: int) -> bool:\n",
    "        return self._get_root(first) == self._get_root(second)\n",
    "        \n",
    "    def union(self, first, second):\n",
    "        first_root = self._get_root(first)\n",
    "        second_root = self._get_root(second)\n",
    "        self._ids[first_root] = second_root\n"
   ]
  },
  {
   "cell_type": "code",
   "execution_count": 53,
   "id": "bf4c1c84-f59a-4062-b24b-96f00f5acbd1",
   "metadata": {},
   "outputs": [],
   "source": [
    "uf = Union_Find(10)\n",
    "assert uf.connected(9,9), 'node should be connected to itself'\n",
    "uf.union(0,8)\n",
    "uf.union(3,5)\n",
    "uf.union(6,8)\n",
    "\n",
    "assert uf.connected(0,8)\n",
    "\n"
   ]
  },
  {
   "cell_type": "markdown",
   "id": "b3d2d12a-b490-42d3-bbea-0b89666c1dd8",
   "metadata": {},
   "source": [
    "* quick union is too slow too since the find and union are both O(n) time\n",
    "* trees can grow too tall\n",
    "\n",
    "  A solution is to used weighted union find. Keep track of height/size of trees and always put smaller trees under taller trees to keep the average height lower\n",
    "  One key point not mentioned in lecture is that the constructor sets up the sizes to be 1 by default for each node.\n",
    "  "
   ]
  },
  {
   "cell_type": "code",
   "execution_count": 69,
   "id": "6cb2b2f6-a808-4876-98be-34d8af85417b",
   "metadata": {},
   "outputs": [],
   "source": [
    "class Union_find_weighted:\n",
    "    def __init__(self, n):\n",
    "        # initially each node is a parent of itself\n",
    "        self._ids = [i for i in range(n)]\n",
    "        self._sizes = [1 for _ in range(n)]\n",
    "        \n",
    "    def _get_root(self, idx: int) -> int:\n",
    "        '''\n",
    "        private helper to get the root node of a given node\n",
    "        '''\n",
    "        while self._ids[idx] != idx:\n",
    "            idx = self._ids[idx]\n",
    "        return idx\n",
    "        \n",
    "    def are_connected(self, first: int, second: int) -> bool:\n",
    "        return self._get_root(first) == self._get_root(second)\n",
    "        \n",
    "    def do_union(self, first, second):\n",
    "        first_root = self._get_root(first)\n",
    "        second_root = self._get_root(second)\n",
    "        if first_root == second_root:\n",
    "            return\n",
    "        sz = self._sizes\n",
    "        ids = self._ids\n",
    "        # put shorter tree under the taller tree\n",
    "        if sz[first_root] < sz[second_root]:\n",
    "            ids[first_root] = sz[second_root]\n",
    "            sz[second_root] += sz[first_root]\n",
    "        else:\n",
    "            ids[second_root] = first_root\n",
    "            sz[first_root] += sz[second_root]\n",
    "\n",
    "    def __str__(self):\n",
    "        return f\"nodes :{self._ids}, sizes:{self._sizes}\"\n",
    "        "
   ]
  },
  {
   "cell_type": "code",
   "execution_count": 70,
   "id": "f52651c9-27cd-4845-8341-2cdaa561cdba",
   "metadata": {},
   "outputs": [
    {
     "name": "stdout",
     "output_type": "stream",
     "text": [
      "nodes :[0, 4, 2, 3, 2, 5, 2, 7, 8, 6], sizes:[1, 1, 5, 1, 1, 1, 2, 1, 1, 1]\n"
     ]
    }
   ],
   "source": [
    "uf = Union_find_weighted(10)\n",
    "uf.do_union(2,4)\n",
    "uf.do_union(6,9)\n",
    "uf.do_union(2,6)\n",
    "uf.do_union(1,9)\n",
    "\n",
    "print(uf)\n",
    "\n"
   ]
  },
  {
   "cell_type": "markdown",
   "id": "263a54a7-f555-4ab5-a04f-ee4705885649",
   "metadata": {},
   "source": [
    "* Running time is proportional to depth of first and second\n",
    "* union takes O(1) time given roots\n",
    "* depth of any node is at most lg(n) --> log base-2\n",
    "    * for n=1000 depth is 3, for n=10^9, the depth is 30! \n",
    "\n",
    "\n",
    "> TODO: add details about why this is true, the math proof\n",
    "\n",
    "> TODO: add a print tree function"
   ]
  }
 ],
 "metadata": {
  "kernelspec": {
   "display_name": "Python 3 (ipykernel)",
   "language": "python",
   "name": "python3"
  },
  "language_info": {
   "codemirror_mode": {
    "name": "ipython",
    "version": 3
   },
   "file_extension": ".py",
   "mimetype": "text/x-python",
   "name": "python",
   "nbconvert_exporter": "python",
   "pygments_lexer": "ipython3",
   "version": "3.9.2"
  }
 },
 "nbformat": 4,
 "nbformat_minor": 5
}
