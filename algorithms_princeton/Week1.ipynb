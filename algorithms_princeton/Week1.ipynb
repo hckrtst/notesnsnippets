{
 "cells": [
  {
   "cell_type": "markdown",
   "id": "79d462e2-d0dc-42ca-b7c0-e5789d2f7999",
   "metadata": {},
   "source": [
    "# Week1\n",
    "\n",
    "Notes from week1 of algorithms course\n"
   ]
  },
  {
   "cell_type": "markdown",
   "id": "59519fff-5d49-4f47-91df-38fc4dcd412f",
   "metadata": {},
   "source": [
    "## Steps to develop usable algorithm\n",
    "\n",
    "* model the problem\n",
    "* find an algorithm that solves it\n",
    "* is it fast enough? is it memory efficient enough?\n",
    "* if not, think about why\n",
    "* find a way to address the shortcomings\n",
    "* iterate until satisfied\n",
    "\n",
    "## Dyanmic connectivity\n",
    "* Given set of N objects\n",
    "    * union command: connect two objects\n",
    "    * find/connected query: is there a path connecting the two objects\n",
    "*     "
   ]
  },
  {
   "cell_type": "code",
   "execution_count": 5,
   "id": "c3f0b283-9512-437e-b185-561c02546988",
   "metadata": {},
   "outputs": [],
   "source": [
    "class Union_Find:\n",
    "    def connected(self, first: int, second: int) -> bool:\n",
    "        return False\n",
    "\n"
   ]
  },
  {
   "cell_type": "code",
   "execution_count": null,
   "id": "bf4c1c84-f59a-4062-b24b-96f00f5acbd1",
   "metadata": {},
   "outputs": [],
   "source": [
    "uf = Union_Find()\n",
    "assert \n"
   ]
  },
  {
   "cell_type": "code",
   "execution_count": null,
   "id": "6291865e-5508-45f9-8196-c4470d7a8c7d",
   "metadata": {},
   "outputs": [],
   "source": []
  }
 ],
 "metadata": {
  "kernelspec": {
   "display_name": "Python 3 (ipykernel)",
   "language": "python",
   "name": "python3"
  },
  "language_info": {
   "codemirror_mode": {
    "name": "ipython",
    "version": 3
   },
   "file_extension": ".py",
   "mimetype": "text/x-python",
   "name": "python",
   "nbconvert_exporter": "python",
   "pygments_lexer": "ipython3",
   "version": "3.9.2"
  }
 },
 "nbformat": 4,
 "nbformat_minor": 5
}
